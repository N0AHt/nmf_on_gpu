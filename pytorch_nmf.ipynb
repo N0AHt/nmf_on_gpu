{
 "cells": [
  {
   "cell_type": "code",
   "execution_count": 14,
   "metadata": {},
   "outputs": [],
   "source": [
    "import torch\n",
    "import torchnmf\n",
    "import matplotlib.pyplot as plt\n",
    "import tqdm \n",
    "import numpy as np\n",
    "import os\n",
    "import skimage.io as iio\n",
    "from tqdm import tqdm"
   ]
  },
  {
   "cell_type": "code",
   "execution_count": 15,
   "metadata": {},
   "outputs": [
    {
     "name": "stderr",
     "output_type": "stream",
     "text": [
      "100%|██████████| 430/430 [00:05<00:00, 75.48it/s]\n"
     ]
    },
    {
     "name": "stdout",
     "output_type": "stream",
     "text": [
      "430\n",
      "382\n",
      "382\n"
     ]
    }
   ],
   "source": [
    "# load in some data to be factorized\n",
    "path = '/home/nrt2124/engram/cuttlefish/CUTTLEFISH_BEHAVIOR/cuttle_data_storage/2024_Interesting_skin_compiled_dataset/Nice skin manual crops/Lightroom Export_full res/'\n",
    "files = np.sort(os.listdir(path))\n",
    "images = iio.ImageCollection(path + '/*.tif')\n",
    "cuts = [1080, 720]\n",
    "cut_0 = cuts[0]\n",
    "cut_1 = cuts[1]\n",
    "\n",
    "shapes = np.empty((3, len(images)))\n",
    "for i, image in enumerate(tqdm(images)):\n",
    "   for j in range(3):\n",
    "      shapes[j,i] = image.shape[j]\n",
    "\n",
    "mask_0 = shapes[0,:] > cut_0\n",
    "mask_1 = shapes[1,:] > cut_1\n",
    "\n",
    "index_mask0 = np.where(mask_0 == True)[0]\n",
    "index_mask1 = np.where(mask_1 == True)[0]\n",
    "\n",
    "full_mask = np.intersect1d(index_mask0, index_mask1)\n",
    "\n",
    "#first filter out unusually small images\n",
    "print(len(images))\n",
    "images_cut = [images[i] for i in full_mask]\n",
    "print(len(images_cut))\n",
    "print(len(full_mask))"
   ]
  },
  {
   "cell_type": "code",
   "execution_count": 16,
   "metadata": {},
   "outputs": [
    {
     "name": "stderr",
     "output_type": "stream",
     "text": [
      "100%|██████████| 382/382 [00:00<00:00, 286418.33it/s]\n"
     ]
    }
   ],
   "source": [
    "def crop_image_to_size(image, output_size):\n",
    "    height, width, c = image.shape\n",
    "\n",
    "\n",
    "    # Desired output size\n",
    "    new_height, new_width = output_size\n",
    "\n",
    "\n",
    "    # Calculate coordinates to crop at the center\n",
    "    start_x = (width // 2) - (new_width // 2)\n",
    "    start_y = (height // 2) - (new_height // 2)\n",
    "\n",
    "    # Crop the image\n",
    "    cropped_img = image[start_y:start_y+new_height, start_x:start_x+new_width]\n",
    "    return cropped_img\n",
    "\n",
    "\n",
    "\n",
    "cropped_ims  = []\n",
    "for image_cut in tqdm(images_cut):\n",
    "    cropped_ims.append(crop_image_to_size(image_cut, (cut_0, cut_1)))"
   ]
  },
  {
   "cell_type": "code",
   "execution_count": 18,
   "metadata": {},
   "outputs": [
    {
     "name": "stdout",
     "output_type": "stream",
     "text": [
      "(382, 777600)\n"
     ]
    }
   ],
   "source": [
    "#implement nmf on some data:\n",
    "\n",
    "#Now for NMF\n",
    "dataset = np.asarray(cropped_ims)\n",
    "\n",
    "#grayscale data\n",
    "gray_data = 0.2989*dataset[:,:,:,0] + 0.5870*dataset[:,:,:,1]+0.1140*dataset[:,:,:,2]\n",
    "\n",
    "gray_data_flattened = gray_data.reshape(gray_data.shape[0], -1)\n",
    "print(gray_data_flattened.shape) #382 flattend images :)\n"
   ]
  },
  {
   "cell_type": "code",
   "execution_count": 78,
   "metadata": {},
   "outputs": [
    {
     "name": "stdout",
     "output_type": "stream",
     "text": [
      "torch.Size([777600, 100])\n",
      "torch.Size([382, 100])\n"
     ]
    }
   ],
   "source": [
    "# now for gpu stuff!\n",
    "from torchnmf.nmf import NMF\n",
    "V = torch.tensor(gray_data_flattened)\n",
    "\n",
    "\n",
    "model = NMF(V.shape, rank=100)\n",
    "print(model.W.size())\n",
    "print(model.H.size())\n",
    "\n",
    "\n"
   ]
  },
  {
   "cell_type": "code",
   "execution_count": 79,
   "metadata": {},
   "outputs": [],
   "source": [
    "#move to the gpu\n",
    "V = V.cuda()\n",
    "model = model.cuda()"
   ]
  },
  {
   "cell_type": "code",
   "execution_count": 80,
   "metadata": {},
   "outputs": [
    {
     "data": {
      "text/plain": [
       "200"
      ]
     },
     "execution_count": 80,
     "metadata": {},
     "output_type": "execute_result"
    }
   ],
   "source": [
    "model.fit(V)"
   ]
  },
  {
   "cell_type": "code",
   "execution_count": 74,
   "metadata": {},
   "outputs": [],
   "source": [
    "WH = model().cpu()"
   ]
  },
  {
   "cell_type": "code",
   "execution_count": 75,
   "metadata": {},
   "outputs": [
    {
     "data": {
      "text/plain": [
       "torch.Size([382, 777600])"
      ]
     },
     "execution_count": 75,
     "metadata": {},
     "output_type": "execute_result"
    }
   ],
   "source": [
    "WH.size()"
   ]
  },
  {
   "cell_type": "code",
   "execution_count": null,
   "metadata": {},
   "outputs": [],
   "source": []
  }
 ],
 "metadata": {
  "kernelspec": {
   "display_name": "torchnmf",
   "language": "python",
   "name": "python3"
  },
  "language_info": {
   "codemirror_mode": {
    "name": "ipython",
    "version": 3
   },
   "file_extension": ".py",
   "mimetype": "text/x-python",
   "name": "python",
   "nbconvert_exporter": "python",
   "pygments_lexer": "ipython3",
   "version": "3.12.2"
  }
 },
 "nbformat": 4,
 "nbformat_minor": 2
}
